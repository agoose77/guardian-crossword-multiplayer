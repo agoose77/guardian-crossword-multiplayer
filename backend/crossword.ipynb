{
 "cells": [
  {
   "cell_type": "code",
   "execution_count": null,
   "metadata": {},
   "outputs": [],
   "source": [
    "from aiohttp import web, ClientSession\n",
    "from bs4 import BeautifulSoup\n",
    "from urllib.parse import urljoin\n",
    "from json import loads\n",
    "\n",
    "number = input(\"Enter crossword number: \")\n",
    "\n",
    "url = urljoin(\"https://www.theguardian.com/crosswords/quick/\", number)\n",
    "\n",
    "async with ClientSession() as session:\n",
    "    response = await session.get(url) \n",
    "    soup = BeautifulSoup(await response.read(), 'html.parser')\n",
    "\n",
    "div, = soup.select(\"div[data-crossword-data]\")\n",
    "\n",
    "crossword_data = loads(div.get('data-crossword-data'))\n",
    "\n",
    "routes = web.RouteTableDef()\n",
    "\n",
    "@routes.get('/')\n",
    "def index(request):\n",
    "    pass\n",
    "\n",
    "state = {}\n",
    "\n",
    "responses = []\n",
    "\n",
    "def handle\n",
    "\n",
    "@routes.get('/ws')\n",
    "def websocket(request):\n",
    "    ws = web.WebSocketResponse()\n",
    "    await ws.prepare(request)\n",
    "    responses.append(ws)\n",
    "\n",
    "    async for msg in ws:\n",
    "        if msg.type == aiohttp.WSMsgType.ERROR:\n",
    "            print('ws connection closed with exception %s' %\n",
    "                  ws.exception())\n",
    "        elif msg.type == aiohttp.WSMsgType.TEXT:\n",
    "            if msg.data == 'close':\n",
    "                await ws.close()\n",
    "            else:\n",
    "                await ws.send_str(msg.data + '/answer')\n",
    "\n",
    "    print('websocket connection closed')\n",
    "\n",
    "    return ws\n",
    "\n",
    "app = web.Application()\n",
    "app.add_routes(routes)\n",
    "web_task = asyncio.create_task(aiohttp.web._run_app(app, port=9000))"
   ]
  }
 ],
 "metadata": {
  "kernelspec": {
   "display_name": "Python 3",
   "language": "python",
   "name": "python3"
  },
  "language_info": {
   "codemirror_mode": {
    "name": "ipython",
    "version": 3
   },
   "file_extension": ".py",
   "mimetype": "text/x-python",
   "name": "python",
   "nbconvert_exporter": "python",
   "pygments_lexer": "ipython3",
   "version": "3.8.1"
  }
 },
 "nbformat": 4,
 "nbformat_minor": 4
}
